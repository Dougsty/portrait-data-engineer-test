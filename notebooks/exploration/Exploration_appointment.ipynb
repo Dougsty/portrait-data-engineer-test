{
 "cells": [
  {
   "cell_type": "code",
   "execution_count": 3,
   "metadata": {},
   "outputs": [],
   "source": [
    "import sys\n",
    "sys.path.append('../../')\n",
    "from utils.connection import postgres_connection\n",
    "import pandas as pd"
   ]
  },
  {
   "cell_type": "code",
   "execution_count": 4,
   "metadata": {},
   "outputs": [],
   "source": [
    "query = \"\"\"\n",
    "select * from healthcare.public.appointments a \n",
    "\"\"\"\n",
    "\n",
    "df = pd.read_sql(query, con=postgres_connection())"
   ]
  },
  {
   "cell_type": "code",
   "execution_count": 5,
   "metadata": {},
   "outputs": [
    {
     "data": {
      "text/plain": [
       "appointment_id       int64\n",
       "patient_id           int64\n",
       "appointment_date    object\n",
       "appointment_type    object\n",
       "provider_id          int64\n",
       "dtype: object"
      ]
     },
     "execution_count": 5,
     "metadata": {},
     "output_type": "execute_result"
    }
   ],
   "source": [
    "df.dtypes"
   ]
  },
  {
   "cell_type": "code",
   "execution_count": 6,
   "metadata": {},
   "outputs": [],
   "source": [
    "# transfomations\n",
    "df['appointment_date'] = pd.to_datetime(df['appointment_date'], format='%Y-%m-%d')"
   ]
  },
  {
   "cell_type": "code",
   "execution_count": 7,
   "metadata": {},
   "outputs": [],
   "source": [
    "# Refining the data\n",
    "df[\"day_of_week\"] = df[\"appointment_date\"].dt.day_name()\n",
    "df[\"time_since_last_appointment\"] = (\n",
    "    pd.to_datetime(\"now\") - df[\"appointment_date\"]\n",
    ").dt.days\n"
   ]
  },
  {
   "cell_type": "code",
   "execution_count": 8,
   "metadata": {},
   "outputs": [
    {
     "data": {
      "text/html": [
       "<div>\n",
       "<style scoped>\n",
       "    .dataframe tbody tr th:only-of-type {\n",
       "        vertical-align: middle;\n",
       "    }\n",
       "\n",
       "    .dataframe tbody tr th {\n",
       "        vertical-align: top;\n",
       "    }\n",
       "\n",
       "    .dataframe thead th {\n",
       "        text-align: right;\n",
       "    }\n",
       "</style>\n",
       "<table border=\"1\" class=\"dataframe\">\n",
       "  <thead>\n",
       "    <tr style=\"text-align: right;\">\n",
       "      <th></th>\n",
       "      <th>appointment_id</th>\n",
       "      <th>patient_id</th>\n",
       "      <th>appointment_date</th>\n",
       "      <th>appointment_type</th>\n",
       "      <th>provider_id</th>\n",
       "      <th>day_of_week</th>\n",
       "      <th>time_since_last_appointment</th>\n",
       "    </tr>\n",
       "  </thead>\n",
       "  <tbody>\n",
       "    <tr>\n",
       "      <th>0</th>\n",
       "      <td>1</td>\n",
       "      <td>37</td>\n",
       "      <td>2023-02-25</td>\n",
       "      <td>Checkup</td>\n",
       "      <td>4</td>\n",
       "      <td>Saturday</td>\n",
       "      <td>815</td>\n",
       "    </tr>\n",
       "    <tr>\n",
       "      <th>1</th>\n",
       "      <td>2</td>\n",
       "      <td>36</td>\n",
       "      <td>2023-03-10</td>\n",
       "      <td>Emergency</td>\n",
       "      <td>7</td>\n",
       "      <td>Friday</td>\n",
       "      <td>802</td>\n",
       "    </tr>\n",
       "    <tr>\n",
       "      <th>2</th>\n",
       "      <td>3</td>\n",
       "      <td>46</td>\n",
       "      <td>2023-04-02</td>\n",
       "      <td>Checkup</td>\n",
       "      <td>3</td>\n",
       "      <td>Sunday</td>\n",
       "      <td>779</td>\n",
       "    </tr>\n",
       "    <tr>\n",
       "      <th>3</th>\n",
       "      <td>4</td>\n",
       "      <td>1</td>\n",
       "      <td>2023-01-16</td>\n",
       "      <td>Consultation</td>\n",
       "      <td>6</td>\n",
       "      <td>Monday</td>\n",
       "      <td>855</td>\n",
       "    </tr>\n",
       "    <tr>\n",
       "      <th>4</th>\n",
       "      <td>5</td>\n",
       "      <td>42</td>\n",
       "      <td>2023-03-24</td>\n",
       "      <td>Emergency</td>\n",
       "      <td>4</td>\n",
       "      <td>Friday</td>\n",
       "      <td>788</td>\n",
       "    </tr>\n",
       "  </tbody>\n",
       "</table>\n",
       "</div>"
      ],
      "text/plain": [
       "   appointment_id  patient_id appointment_date appointment_type  provider_id  \\\n",
       "0               1          37       2023-02-25          Checkup            4   \n",
       "1               2          36       2023-03-10        Emergency            7   \n",
       "2               3          46       2023-04-02          Checkup            3   \n",
       "3               4           1       2023-01-16     Consultation            6   \n",
       "4               5          42       2023-03-24        Emergency            4   \n",
       "\n",
       "  day_of_week  time_since_last_appointment  \n",
       "0    Saturday                          815  \n",
       "1      Friday                          802  \n",
       "2      Sunday                          779  \n",
       "3      Monday                          855  \n",
       "4      Friday                          788  "
      ]
     },
     "execution_count": 8,
     "metadata": {},
     "output_type": "execute_result"
    }
   ],
   "source": [
    "df.head()"
   ]
  }
 ],
 "metadata": {
  "kernelspec": {
   "display_name": ".venv",
   "language": "python",
   "name": "python3"
  },
  "language_info": {
   "codemirror_mode": {
    "name": "ipython",
    "version": 3
   },
   "file_extension": ".py",
   "mimetype": "text/x-python",
   "name": "python",
   "nbconvert_exporter": "python",
   "pygments_lexer": "ipython3",
   "version": "3.13.1"
  }
 },
 "nbformat": 4,
 "nbformat_minor": 2
}
