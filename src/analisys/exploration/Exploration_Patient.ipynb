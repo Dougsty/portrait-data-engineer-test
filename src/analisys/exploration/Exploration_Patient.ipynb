{
 "cells": [
  {
   "cell_type": "code",
   "execution_count": null,
   "metadata": {},
   "outputs": [],
   "source": [
    "import sys\n",
    "sys.path.append('../../')\n",
    "from utils.connection import postgres_connection\n",
    "import pandas as pd"
   ]
  },
  {
   "cell_type": "code",
   "execution_count": 39,
   "metadata": {},
   "outputs": [],
   "source": [
    "query = \"\"\"\n",
    "select * from healthcare.public.patients a \n",
    "\"\"\"\n",
    "\n",
    "df = pd.read_sql(query, con=postgres_connection())"
   ]
  },
  {
   "cell_type": "code",
   "execution_count": 40,
   "metadata": {},
   "outputs": [
    {
     "data": {
      "text/plain": [
       "patient_id             int64\n",
       "name                  object\n",
       "age                  float64\n",
       "gender                object\n",
       "registration_date     object\n",
       "dtype: object"
      ]
     },
     "execution_count": 40,
     "metadata": {},
     "output_type": "execute_result"
    }
   ],
   "source": [
    "df.dtypes"
   ]
  },
  {
   "cell_type": "code",
   "execution_count": 41,
   "metadata": {},
   "outputs": [],
   "source": [
    "# transfomations\n",
    "df['registration_date'] = pd.to_datetime(df['registration_date'], format='%Y-%m-%d')\n",
    "df['age'] = df['age'].astype('Int64')"
   ]
  },
  {
   "cell_type": "code",
   "execution_count": 42,
   "metadata": {},
   "outputs": [],
   "source": [
    "# Aggregations\n",
    "\n",
    "df['age_group'] = pd.cut(df['age'], bins=[0, 18, 30, 50, 70, 100], labels=['0-18', '19-30', '31-50', '51-70', '71+'])\n",
    "\n",
    "# Create a new column for the number of months since registration\n",
    "df['months_since_registration'] = (pd.to_datetime('now') - df['registration_date']).dt.days // 30\n",
    "df['months_since_registration'] = df['months_since_registration'].astype('Int64')\n",
    "\n",
    "df['patient_type'] = pd.cut(df['months_since_registration'], bins=[0, 6, 24, 100 ], labels=['New', 'Regular', 'Old'])"
   ]
  },
  {
   "cell_type": "code",
   "execution_count": 43,
   "metadata": {},
   "outputs": [
    {
     "data": {
      "text/html": [
       "<div>\n",
       "<style scoped>\n",
       "    .dataframe tbody tr th:only-of-type {\n",
       "        vertical-align: middle;\n",
       "    }\n",
       "\n",
       "    .dataframe tbody tr th {\n",
       "        vertical-align: top;\n",
       "    }\n",
       "\n",
       "    .dataframe thead th {\n",
       "        text-align: right;\n",
       "    }\n",
       "</style>\n",
       "<table border=\"1\" class=\"dataframe\">\n",
       "  <thead>\n",
       "    <tr style=\"text-align: right;\">\n",
       "      <th></th>\n",
       "      <th>patient_id</th>\n",
       "      <th>name</th>\n",
       "      <th>age</th>\n",
       "      <th>gender</th>\n",
       "      <th>registration_date</th>\n",
       "      <th>age_group</th>\n",
       "      <th>months_since_registration</th>\n",
       "      <th>patient_type</th>\n",
       "    </tr>\n",
       "  </thead>\n",
       "  <tbody>\n",
       "    <tr>\n",
       "      <th>0</th>\n",
       "      <td>1</td>\n",
       "      <td>John Hill</td>\n",
       "      <td>89</td>\n",
       "      <td>Male</td>\n",
       "      <td>2023-08-23</td>\n",
       "      <td>71+</td>\n",
       "      <td>21</td>\n",
       "      <td>Regular</td>\n",
       "    </tr>\n",
       "    <tr>\n",
       "      <th>1</th>\n",
       "      <td>2</td>\n",
       "      <td>Adam Chavez</td>\n",
       "      <td>21</td>\n",
       "      <td>Male</td>\n",
       "      <td>2024-04-01</td>\n",
       "      <td>19-30</td>\n",
       "      <td>13</td>\n",
       "      <td>Regular</td>\n",
       "    </tr>\n",
       "    <tr>\n",
       "      <th>2</th>\n",
       "      <td>3</td>\n",
       "      <td>Troy Scott</td>\n",
       "      <td>36</td>\n",
       "      <td>Male</td>\n",
       "      <td>2020-03-04</td>\n",
       "      <td>31-50</td>\n",
       "      <td>63</td>\n",
       "      <td>Old</td>\n",
       "    </tr>\n",
       "    <tr>\n",
       "      <th>3</th>\n",
       "      <td>4</td>\n",
       "      <td>Joan Ross</td>\n",
       "      <td>77</td>\n",
       "      <td>Female</td>\n",
       "      <td>2021-09-24</td>\n",
       "      <td>71+</td>\n",
       "      <td>44</td>\n",
       "      <td>Old</td>\n",
       "    </tr>\n",
       "    <tr>\n",
       "      <th>4</th>\n",
       "      <td>5</td>\n",
       "      <td>Stephanie Giles</td>\n",
       "      <td>41</td>\n",
       "      <td>Female</td>\n",
       "      <td>2022-08-17</td>\n",
       "      <td>31-50</td>\n",
       "      <td>33</td>\n",
       "      <td>Old</td>\n",
       "    </tr>\n",
       "  </tbody>\n",
       "</table>\n",
       "</div>"
      ],
      "text/plain": [
       "   patient_id             name  age  gender registration_date age_group  \\\n",
       "0           1        John Hill   89    Male        2023-08-23       71+   \n",
       "1           2      Adam Chavez   21    Male        2024-04-01     19-30   \n",
       "2           3       Troy Scott   36    Male        2020-03-04     31-50   \n",
       "3           4        Joan Ross   77  Female        2021-09-24       71+   \n",
       "4           5  Stephanie Giles   41  Female        2022-08-17     31-50   \n",
       "\n",
       "   months_since_registration patient_type  \n",
       "0                         21      Regular  \n",
       "1                         13      Regular  \n",
       "2                         63          Old  \n",
       "3                         44          Old  \n",
       "4                         33          Old  "
      ]
     },
     "execution_count": 43,
     "metadata": {},
     "output_type": "execute_result"
    }
   ],
   "source": [
    "df.head()"
   ]
  }
 ],
 "metadata": {
  "kernelspec": {
   "display_name": ".venv",
   "language": "python",
   "name": "python3"
  },
  "language_info": {
   "codemirror_mode": {
    "name": "ipython",
    "version": 3
   },
   "file_extension": ".py",
   "mimetype": "text/x-python",
   "name": "python",
   "nbconvert_exporter": "python",
   "pygments_lexer": "ipython3",
   "version": "3.13.1"
  }
 },
 "nbformat": 4,
 "nbformat_minor": 2
}
